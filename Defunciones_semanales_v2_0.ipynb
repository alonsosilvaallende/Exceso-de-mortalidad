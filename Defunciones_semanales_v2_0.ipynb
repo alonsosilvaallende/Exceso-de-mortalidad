{
  "nbformat": 4,
  "nbformat_minor": 0,
  "metadata": {
    "kernelspec": {
      "display_name": "Python 3",
      "language": "python",
      "name": "python3"
    },
    "language_info": {
      "codemirror_mode": {
        "name": "ipython",
        "version": 3
      },
      "file_extension": ".py",
      "mimetype": "text/x-python",
      "name": "python",
      "nbconvert_exporter": "python",
      "pygments_lexer": "ipython3",
      "version": "3.8.2"
    },
    "colab": {
      "name": "Defunciones-semanales-v2.0.ipynb",
      "provenance": [],
      "collapsed_sections": [],
      "include_colab_link": true
    }
  },
  "cells": [
    {
      "cell_type": "markdown",
      "metadata": {
        "id": "view-in-github",
        "colab_type": "text"
      },
      "source": [
        "<a href=\"https://colab.research.google.com/github/alonsosilvaallende/Exceso-de-mortalidad/blob/master/Defunciones_semanales_v2_0.ipynb\" target=\"_parent\"><img src=\"https://colab.research.google.com/assets/colab-badge.svg\" alt=\"Open In Colab\"/></a>"
      ]
    },
    {
      "cell_type": "code",
      "metadata": {
        "id": "ClIrLfJiiU3F",
        "colab_type": "code",
        "colab": {}
      },
      "source": [
        "import numpy as np\n",
        "import pandas as pd\n",
        "import matplotlib.pyplot as plt\n",
        "import datetime"
      ],
      "execution_count": 0,
      "outputs": []
    },
    {
      "cell_type": "markdown",
      "metadata": {
        "id": "JzSeh25Z7ajg",
        "colab_type": "text"
      },
      "source": [
        "- Datos de [@min_ciencia](https://twitter.com/min_ciencia): https://github.com/MinCiencia/Datos-COVID19\n",
        "- Provenientes de [@RegCivil_Chile](https://twitter.com/min_ciencia):\n",
        "https://estadisticas.sed.srcei.cl/defreg\n",
        "- Provenientes de [@ministeriosalud](https://twitter.com/ministeriosalud): https://www.minsal.cl/nuevo-coronavirus-2019-ncov/casos-confirmados-en-chile-covid-19/\n"
      ]
    },
    {
      "cell_type": "code",
      "metadata": {
        "id": "_A8Xn7kFiU3R",
        "colab_type": "code",
        "colab": {}
      },
      "source": [
        "deaths_raw = pd.read_csv(\n",
        "    \"https://raw.githubusercontent.com/MinCiencia/Datos-COVID19/master/output/producto32/Defunciones.csv\")"
      ],
      "execution_count": 0,
      "outputs": []
    },
    {
      "cell_type": "code",
      "metadata": {
        "id": "1ArVADg_b1bB",
        "colab_type": "code",
        "outputId": "4407b375-d654-419e-d27f-1d3258eaa303",
        "colab": {
          "base_uri": "https://localhost:8080/",
          "height": 225
        }
      },
      "source": [
        "deaths_raw.head(3)"
      ],
      "execution_count": 0,
      "outputs": [
        {
          "output_type": "execute_result",
          "data": {
            "text/html": [
              "<div>\n",
              "<style scoped>\n",
              "    .dataframe tbody tr th:only-of-type {\n",
              "        vertical-align: middle;\n",
              "    }\n",
              "\n",
              "    .dataframe tbody tr th {\n",
              "        vertical-align: top;\n",
              "    }\n",
              "\n",
              "    .dataframe thead th {\n",
              "        text-align: right;\n",
              "    }\n",
              "</style>\n",
              "<table border=\"1\" class=\"dataframe\">\n",
              "  <thead>\n",
              "    <tr style=\"text-align: right;\">\n",
              "      <th></th>\n",
              "      <th>Region</th>\n",
              "      <th>Codigo region</th>\n",
              "      <th>Comuna</th>\n",
              "      <th>Codigo comuna</th>\n",
              "      <th>2010-01-01</th>\n",
              "      <th>2010-01-02</th>\n",
              "      <th>2010-01-03</th>\n",
              "      <th>2010-01-04</th>\n",
              "      <th>2010-01-05</th>\n",
              "      <th>2010-01-06</th>\n",
              "      <th>2010-01-07</th>\n",
              "      <th>2010-01-08</th>\n",
              "      <th>2010-01-09</th>\n",
              "      <th>2010-01-10</th>\n",
              "      <th>2010-01-11</th>\n",
              "      <th>2010-01-12</th>\n",
              "      <th>2010-01-13</th>\n",
              "      <th>2010-01-14</th>\n",
              "      <th>2010-01-15</th>\n",
              "      <th>2010-01-16</th>\n",
              "      <th>2010-01-17</th>\n",
              "      <th>2010-01-18</th>\n",
              "      <th>2010-01-19</th>\n",
              "      <th>2010-01-20</th>\n",
              "      <th>2010-01-21</th>\n",
              "      <th>2010-01-22</th>\n",
              "      <th>2010-01-23</th>\n",
              "      <th>2010-01-24</th>\n",
              "      <th>2010-01-25</th>\n",
              "      <th>2010-01-26</th>\n",
              "      <th>2010-01-27</th>\n",
              "      <th>2010-01-28</th>\n",
              "      <th>2010-01-29</th>\n",
              "      <th>2010-01-30</th>\n",
              "      <th>2010-01-31</th>\n",
              "      <th>2010-02-01</th>\n",
              "      <th>2010-02-02</th>\n",
              "      <th>2010-02-03</th>\n",
              "      <th>2010-02-04</th>\n",
              "      <th>2010-02-05</th>\n",
              "      <th>...</th>\n",
              "      <th>2020-04-23</th>\n",
              "      <th>2020-04-24</th>\n",
              "      <th>2020-04-25</th>\n",
              "      <th>2020-04-26</th>\n",
              "      <th>2020-04-27</th>\n",
              "      <th>2020-04-28</th>\n",
              "      <th>2020-04-29</th>\n",
              "      <th>2020-04-30</th>\n",
              "      <th>2020-05-01</th>\n",
              "      <th>2020-05-02</th>\n",
              "      <th>2020-05-03</th>\n",
              "      <th>2020-05-04</th>\n",
              "      <th>2020-05-05</th>\n",
              "      <th>2020-05-06</th>\n",
              "      <th>2020-05-07</th>\n",
              "      <th>2020-05-08</th>\n",
              "      <th>2020-05-09</th>\n",
              "      <th>2020-05-10</th>\n",
              "      <th>2020-05-11</th>\n",
              "      <th>2020-05-12</th>\n",
              "      <th>2020-05-13</th>\n",
              "      <th>2020-05-14</th>\n",
              "      <th>2020-05-15</th>\n",
              "      <th>2020-05-16</th>\n",
              "      <th>2020-05-17</th>\n",
              "      <th>2020-05-18</th>\n",
              "      <th>2020-05-19</th>\n",
              "      <th>2020-05-20</th>\n",
              "      <th>2020-05-21</th>\n",
              "      <th>2020-05-22</th>\n",
              "      <th>2020-05-23</th>\n",
              "      <th>2020-05-24</th>\n",
              "      <th>2020-05-25</th>\n",
              "      <th>2020-05-26</th>\n",
              "      <th>2020-05-27</th>\n",
              "      <th>2020-05-28</th>\n",
              "      <th>2020-05-29</th>\n",
              "      <th>2020-05-30</th>\n",
              "      <th>2020-05-31</th>\n",
              "      <th>2020-06-01</th>\n",
              "    </tr>\n",
              "  </thead>\n",
              "  <tbody>\n",
              "    <tr>\n",
              "      <th>0</th>\n",
              "      <td>Antofagasta</td>\n",
              "      <td>2</td>\n",
              "      <td>Antofagasta</td>\n",
              "      <td>2101</td>\n",
              "      <td>0</td>\n",
              "      <td>6</td>\n",
              "      <td>1</td>\n",
              "      <td>8</td>\n",
              "      <td>0</td>\n",
              "      <td>5</td>\n",
              "      <td>7</td>\n",
              "      <td>3</td>\n",
              "      <td>6</td>\n",
              "      <td>1</td>\n",
              "      <td>6</td>\n",
              "      <td>8</td>\n",
              "      <td>2</td>\n",
              "      <td>10</td>\n",
              "      <td>3</td>\n",
              "      <td>2</td>\n",
              "      <td>1</td>\n",
              "      <td>10</td>\n",
              "      <td>1</td>\n",
              "      <td>2</td>\n",
              "      <td>10</td>\n",
              "      <td>11</td>\n",
              "      <td>2</td>\n",
              "      <td>2</td>\n",
              "      <td>12</td>\n",
              "      <td>7</td>\n",
              "      <td>8</td>\n",
              "      <td>7</td>\n",
              "      <td>6</td>\n",
              "      <td>2</td>\n",
              "      <td>5</td>\n",
              "      <td>14</td>\n",
              "      <td>4</td>\n",
              "      <td>3</td>\n",
              "      <td>6</td>\n",
              "      <td>7</td>\n",
              "      <td>...</td>\n",
              "      <td>7</td>\n",
              "      <td>7</td>\n",
              "      <td>4</td>\n",
              "      <td>2</td>\n",
              "      <td>10</td>\n",
              "      <td>9</td>\n",
              "      <td>9</td>\n",
              "      <td>10</td>\n",
              "      <td>6</td>\n",
              "      <td>3</td>\n",
              "      <td>0</td>\n",
              "      <td>11</td>\n",
              "      <td>7</td>\n",
              "      <td>6</td>\n",
              "      <td>6</td>\n",
              "      <td>9</td>\n",
              "      <td>6</td>\n",
              "      <td>2</td>\n",
              "      <td>8</td>\n",
              "      <td>8</td>\n",
              "      <td>7</td>\n",
              "      <td>3</td>\n",
              "      <td>9</td>\n",
              "      <td>5</td>\n",
              "      <td>4</td>\n",
              "      <td>9</td>\n",
              "      <td>8</td>\n",
              "      <td>5</td>\n",
              "      <td>2</td>\n",
              "      <td>17</td>\n",
              "      <td>2</td>\n",
              "      <td>0</td>\n",
              "      <td>12</td>\n",
              "      <td>7</td>\n",
              "      <td>3</td>\n",
              "      <td>1</td>\n",
              "      <td>3</td>\n",
              "      <td>3</td>\n",
              "      <td>0</td>\n",
              "      <td>9</td>\n",
              "    </tr>\n",
              "    <tr>\n",
              "      <th>1</th>\n",
              "      <td>Antofagasta</td>\n",
              "      <td>2</td>\n",
              "      <td>Calama</td>\n",
              "      <td>2201</td>\n",
              "      <td>0</td>\n",
              "      <td>0</td>\n",
              "      <td>0</td>\n",
              "      <td>6</td>\n",
              "      <td>3</td>\n",
              "      <td>4</td>\n",
              "      <td>0</td>\n",
              "      <td>0</td>\n",
              "      <td>0</td>\n",
              "      <td>0</td>\n",
              "      <td>3</td>\n",
              "      <td>2</td>\n",
              "      <td>1</td>\n",
              "      <td>0</td>\n",
              "      <td>0</td>\n",
              "      <td>0</td>\n",
              "      <td>0</td>\n",
              "      <td>6</td>\n",
              "      <td>1</td>\n",
              "      <td>5</td>\n",
              "      <td>2</td>\n",
              "      <td>1</td>\n",
              "      <td>0</td>\n",
              "      <td>0</td>\n",
              "      <td>0</td>\n",
              "      <td>1</td>\n",
              "      <td>2</td>\n",
              "      <td>3</td>\n",
              "      <td>1</td>\n",
              "      <td>0</td>\n",
              "      <td>0</td>\n",
              "      <td>5</td>\n",
              "      <td>4</td>\n",
              "      <td>0</td>\n",
              "      <td>1</td>\n",
              "      <td>1</td>\n",
              "      <td>...</td>\n",
              "      <td>2</td>\n",
              "      <td>2</td>\n",
              "      <td>0</td>\n",
              "      <td>0</td>\n",
              "      <td>4</td>\n",
              "      <td>4</td>\n",
              "      <td>1</td>\n",
              "      <td>4</td>\n",
              "      <td>0</td>\n",
              "      <td>1</td>\n",
              "      <td>0</td>\n",
              "      <td>5</td>\n",
              "      <td>6</td>\n",
              "      <td>7</td>\n",
              "      <td>6</td>\n",
              "      <td>2</td>\n",
              "      <td>0</td>\n",
              "      <td>0</td>\n",
              "      <td>6</td>\n",
              "      <td>2</td>\n",
              "      <td>1</td>\n",
              "      <td>5</td>\n",
              "      <td>6</td>\n",
              "      <td>0</td>\n",
              "      <td>0</td>\n",
              "      <td>3</td>\n",
              "      <td>4</td>\n",
              "      <td>1</td>\n",
              "      <td>0</td>\n",
              "      <td>6</td>\n",
              "      <td>1</td>\n",
              "      <td>0</td>\n",
              "      <td>4</td>\n",
              "      <td>5</td>\n",
              "      <td>2</td>\n",
              "      <td>4</td>\n",
              "      <td>2</td>\n",
              "      <td>0</td>\n",
              "      <td>0</td>\n",
              "      <td>7</td>\n",
              "    </tr>\n",
              "    <tr>\n",
              "      <th>2</th>\n",
              "      <td>Antofagasta</td>\n",
              "      <td>2</td>\n",
              "      <td>María Elena</td>\n",
              "      <td>2302</td>\n",
              "      <td>0</td>\n",
              "      <td>0</td>\n",
              "      <td>0</td>\n",
              "      <td>0</td>\n",
              "      <td>0</td>\n",
              "      <td>0</td>\n",
              "      <td>0</td>\n",
              "      <td>0</td>\n",
              "      <td>0</td>\n",
              "      <td>0</td>\n",
              "      <td>0</td>\n",
              "      <td>0</td>\n",
              "      <td>0</td>\n",
              "      <td>0</td>\n",
              "      <td>0</td>\n",
              "      <td>0</td>\n",
              "      <td>0</td>\n",
              "      <td>0</td>\n",
              "      <td>0</td>\n",
              "      <td>0</td>\n",
              "      <td>0</td>\n",
              "      <td>0</td>\n",
              "      <td>0</td>\n",
              "      <td>0</td>\n",
              "      <td>0</td>\n",
              "      <td>0</td>\n",
              "      <td>0</td>\n",
              "      <td>0</td>\n",
              "      <td>0</td>\n",
              "      <td>0</td>\n",
              "      <td>0</td>\n",
              "      <td>0</td>\n",
              "      <td>0</td>\n",
              "      <td>0</td>\n",
              "      <td>0</td>\n",
              "      <td>0</td>\n",
              "      <td>...</td>\n",
              "      <td>0</td>\n",
              "      <td>0</td>\n",
              "      <td>0</td>\n",
              "      <td>0</td>\n",
              "      <td>1</td>\n",
              "      <td>0</td>\n",
              "      <td>0</td>\n",
              "      <td>0</td>\n",
              "      <td>0</td>\n",
              "      <td>0</td>\n",
              "      <td>0</td>\n",
              "      <td>0</td>\n",
              "      <td>0</td>\n",
              "      <td>0</td>\n",
              "      <td>0</td>\n",
              "      <td>0</td>\n",
              "      <td>0</td>\n",
              "      <td>0</td>\n",
              "      <td>0</td>\n",
              "      <td>0</td>\n",
              "      <td>0</td>\n",
              "      <td>0</td>\n",
              "      <td>0</td>\n",
              "      <td>0</td>\n",
              "      <td>0</td>\n",
              "      <td>0</td>\n",
              "      <td>0</td>\n",
              "      <td>0</td>\n",
              "      <td>0</td>\n",
              "      <td>0</td>\n",
              "      <td>0</td>\n",
              "      <td>0</td>\n",
              "      <td>0</td>\n",
              "      <td>0</td>\n",
              "      <td>0</td>\n",
              "      <td>1</td>\n",
              "      <td>0</td>\n",
              "      <td>0</td>\n",
              "      <td>0</td>\n",
              "      <td>1</td>\n",
              "    </tr>\n",
              "  </tbody>\n",
              "</table>\n",
              "<p>3 rows × 3809 columns</p>\n",
              "</div>"
            ],
            "text/plain": [
              "        Region  Codigo region       Comuna  ...  2020-05-30  2020-05-31  2020-06-01\n",
              "0  Antofagasta              2  Antofagasta  ...           3           0           9\n",
              "1  Antofagasta              2       Calama  ...           0           0           7\n",
              "2  Antofagasta              2  María Elena  ...           0           0           1\n",
              "\n",
              "[3 rows x 3809 columns]"
            ]
          },
          "metadata": {
            "tags": []
          },
          "execution_count": 3
        }
      ]
    },
    {
      "cell_type": "code",
      "metadata": {
        "id": "RMXjslKIiU3c",
        "colab_type": "code",
        "colab": {}
      },
      "source": [
        "deaths = deaths_raw.drop(columns=[\"Region\", \"Codigo region\", \"Comuna\", \"Codigo comuna\"]).sum()"
      ],
      "execution_count": 0,
      "outputs": []
    },
    {
      "cell_type": "code",
      "metadata": {
        "id": "y5J6jr61b745",
        "colab_type": "code",
        "outputId": "2cfe2ac7-3e98-4b64-e051-137f398deef9",
        "colab": {
          "base_uri": "https://localhost:8080/",
          "height": 85
        }
      },
      "source": [
        "deaths.head(3)"
      ],
      "execution_count": 0,
      "outputs": [
        {
          "output_type": "execute_result",
          "data": {
            "text/plain": [
              "2010-01-01     88\n",
              "2010-01-02    120\n",
              "2010-01-03     83\n",
              "dtype: int64"
            ]
          },
          "metadata": {
            "tags": []
          },
          "execution_count": 5
        }
      ]
    },
    {
      "cell_type": "code",
      "metadata": {
        "id": "eRR2BjECrrV8",
        "colab_type": "code",
        "outputId": "bbded542-4a1b-490f-ad0d-391d5a7bcd6f",
        "colab": {
          "base_uri": "https://localhost:8080/",
          "height": 34
        }
      },
      "source": [
        "# sort rows by date/index\n",
        "deaths.index = pd.to_datetime(deaths.index)\n",
        "deaths = deaths.sort_index()\n",
        "last_day = deaths.index[-1]\n",
        "last_day.strftime(\"%Y-%m-%d\")"
      ],
      "execution_count": 0,
      "outputs": [
        {
          "output_type": "execute_result",
          "data": {
            "text/plain": [
              "'2020-06-01'"
            ]
          },
          "metadata": {
            "tags": []
          },
          "execution_count": 6
        }
      ]
    },
    {
      "cell_type": "code",
      "metadata": {
        "id": "BsYJd3Btr0TC",
        "colab_type": "code",
        "colab": {}
      },
      "source": [
        "deaths = (deaths\n",
        "          .reset_index()\n",
        "          .rename(columns={\"index\": \"fecha\", 0: \"fallecidos\"})\n",
        "          )"
      ],
      "execution_count": 0,
      "outputs": []
    },
    {
      "cell_type": "code",
      "metadata": {
        "id": "X9acbkSCM8gP",
        "colab_type": "code",
        "outputId": "e598948c-3179-4b16-d82b-25f3e61d7c6a",
        "colab": {
          "base_uri": "https://localhost:8080/",
          "height": 204
        }
      },
      "source": [
        "deaths.head()"
      ],
      "execution_count": 0,
      "outputs": [
        {
          "output_type": "execute_result",
          "data": {
            "text/html": [
              "<div>\n",
              "<style scoped>\n",
              "    .dataframe tbody tr th:only-of-type {\n",
              "        vertical-align: middle;\n",
              "    }\n",
              "\n",
              "    .dataframe tbody tr th {\n",
              "        vertical-align: top;\n",
              "    }\n",
              "\n",
              "    .dataframe thead th {\n",
              "        text-align: right;\n",
              "    }\n",
              "</style>\n",
              "<table border=\"1\" class=\"dataframe\">\n",
              "  <thead>\n",
              "    <tr style=\"text-align: right;\">\n",
              "      <th></th>\n",
              "      <th>fecha</th>\n",
              "      <th>fallecidos</th>\n",
              "      <th>día de la semana</th>\n",
              "      <th>mes</th>\n",
              "      <th>año</th>\n",
              "    </tr>\n",
              "  </thead>\n",
              "  <tbody>\n",
              "    <tr>\n",
              "      <th>0</th>\n",
              "      <td>2010-01-01</td>\n",
              "      <td>88</td>\n",
              "      <td>4</td>\n",
              "      <td>1</td>\n",
              "      <td>2010</td>\n",
              "    </tr>\n",
              "    <tr>\n",
              "      <th>1</th>\n",
              "      <td>2010-01-02</td>\n",
              "      <td>120</td>\n",
              "      <td>5</td>\n",
              "      <td>1</td>\n",
              "      <td>2010</td>\n",
              "    </tr>\n",
              "    <tr>\n",
              "      <th>2</th>\n",
              "      <td>2010-01-03</td>\n",
              "      <td>83</td>\n",
              "      <td>6</td>\n",
              "      <td>1</td>\n",
              "      <td>2010</td>\n",
              "    </tr>\n",
              "    <tr>\n",
              "      <th>3</th>\n",
              "      <td>2010-01-04</td>\n",
              "      <td>641</td>\n",
              "      <td>0</td>\n",
              "      <td>1</td>\n",
              "      <td>2010</td>\n",
              "    </tr>\n",
              "    <tr>\n",
              "      <th>4</th>\n",
              "      <td>2010-01-05</td>\n",
              "      <td>275</td>\n",
              "      <td>1</td>\n",
              "      <td>1</td>\n",
              "      <td>2010</td>\n",
              "    </tr>\n",
              "  </tbody>\n",
              "</table>\n",
              "</div>"
            ],
            "text/plain": [
              "       fecha  fallecidos  día de la semana  mes   año\n",
              "0 2010-01-01          88                 4    1  2010\n",
              "1 2010-01-02         120                 5    1  2010\n",
              "2 2010-01-03          83                 6    1  2010\n",
              "3 2010-01-04         641                 0    1  2010\n",
              "4 2010-01-05         275                 1    1  2010"
            ]
          },
          "metadata": {
            "tags": []
          },
          "execution_count": 14
        }
      ]
    },
    {
      "cell_type": "code",
      "metadata": {
        "id": "-bz_LT6tr67s",
        "colab_type": "code",
        "colab": {}
      },
      "source": [
        "deaths[\"día de la semana\"] = deaths[\"fecha\"].dt.dayofweek"
      ],
      "execution_count": 0,
      "outputs": []
    },
    {
      "cell_type": "code",
      "metadata": {
        "id": "S1wYheaMsOHG",
        "colab_type": "code",
        "colab": {}
      },
      "source": [
        "deaths[\"mes\"] = deaths[\"fecha\"].dt.month"
      ],
      "execution_count": 0,
      "outputs": []
    },
    {
      "cell_type": "code",
      "metadata": {
        "id": "0_DkwGk5QpZh",
        "colab_type": "code",
        "colab": {}
      },
      "source": [
        "deaths[\"año\"] = deaths[\"fecha\"].dt.year"
      ],
      "execution_count": 0,
      "outputs": []
    },
    {
      "cell_type": "code",
      "metadata": {
        "id": "iQtyYNIqLYlS",
        "colab_type": "code",
        "outputId": "c0b80f1b-aa4e-4d7b-cee9-b15509aa4466",
        "colab": {
          "base_uri": "https://localhost:8080/",
          "height": 204
        }
      },
      "source": [
        "deaths.head()"
      ],
      "execution_count": 0,
      "outputs": [
        {
          "output_type": "execute_result",
          "data": {
            "text/html": [
              "<div>\n",
              "<style scoped>\n",
              "    .dataframe tbody tr th:only-of-type {\n",
              "        vertical-align: middle;\n",
              "    }\n",
              "\n",
              "    .dataframe tbody tr th {\n",
              "        vertical-align: top;\n",
              "    }\n",
              "\n",
              "    .dataframe thead th {\n",
              "        text-align: right;\n",
              "    }\n",
              "</style>\n",
              "<table border=\"1\" class=\"dataframe\">\n",
              "  <thead>\n",
              "    <tr style=\"text-align: right;\">\n",
              "      <th></th>\n",
              "      <th>fecha</th>\n",
              "      <th>fallecidos</th>\n",
              "      <th>día de la semana</th>\n",
              "      <th>mes</th>\n",
              "      <th>año</th>\n",
              "    </tr>\n",
              "  </thead>\n",
              "  <tbody>\n",
              "    <tr>\n",
              "      <th>0</th>\n",
              "      <td>2010-01-01</td>\n",
              "      <td>88</td>\n",
              "      <td>4</td>\n",
              "      <td>1</td>\n",
              "      <td>2010</td>\n",
              "    </tr>\n",
              "    <tr>\n",
              "      <th>1</th>\n",
              "      <td>2010-01-02</td>\n",
              "      <td>120</td>\n",
              "      <td>5</td>\n",
              "      <td>1</td>\n",
              "      <td>2010</td>\n",
              "    </tr>\n",
              "    <tr>\n",
              "      <th>2</th>\n",
              "      <td>2010-01-03</td>\n",
              "      <td>83</td>\n",
              "      <td>6</td>\n",
              "      <td>1</td>\n",
              "      <td>2010</td>\n",
              "    </tr>\n",
              "    <tr>\n",
              "      <th>3</th>\n",
              "      <td>2010-01-04</td>\n",
              "      <td>641</td>\n",
              "      <td>0</td>\n",
              "      <td>1</td>\n",
              "      <td>2010</td>\n",
              "    </tr>\n",
              "    <tr>\n",
              "      <th>4</th>\n",
              "      <td>2010-01-05</td>\n",
              "      <td>275</td>\n",
              "      <td>1</td>\n",
              "      <td>1</td>\n",
              "      <td>2010</td>\n",
              "    </tr>\n",
              "  </tbody>\n",
              "</table>\n",
              "</div>"
            ],
            "text/plain": [
              "       fecha  fallecidos  día de la semana  mes   año\n",
              "0 2010-01-01          88                 4    1  2010\n",
              "1 2010-01-02         120                 5    1  2010\n",
              "2 2010-01-03          83                 6    1  2010\n",
              "3 2010-01-04         641                 0    1  2010\n",
              "4 2010-01-05         275                 1    1  2010"
            ]
          },
          "metadata": {
            "tags": []
          },
          "execution_count": 15
        }
      ]
    },
    {
      "cell_type": "code",
      "metadata": {
        "id": "6-GoOF30shty",
        "colab_type": "code",
        "colab": {}
      },
      "source": [
        "deaths_year_month = (deaths\n",
        "                    .drop(columns=[\"fecha\", \"día de la semana\"])\n",
        "                    .groupby([\"año\", \"mes\"])\n",
        "                    .sum()\n",
        "                    [\"fallecidos\"]\n",
        "                    .unstack()\n",
        "                    .astype(\"Float16\")\n",
        "                    )"
      ],
      "execution_count": 0,
      "outputs": []
    },
    {
      "cell_type": "code",
      "metadata": {
        "id": "0LPs2hxj85VN",
        "colab_type": "code",
        "outputId": "8cbb4d02-8bf6-417f-a70c-ff5634d2003c",
        "colab": {
          "base_uri": "https://localhost:8080/",
          "height": 421
        }
      },
      "source": [
        "deaths_year_month"
      ],
      "execution_count": 0,
      "outputs": [
        {
          "output_type": "execute_result",
          "data": {
            "text/html": [
              "<div>\n",
              "<style scoped>\n",
              "    .dataframe tbody tr th:only-of-type {\n",
              "        vertical-align: middle;\n",
              "    }\n",
              "\n",
              "    .dataframe tbody tr th {\n",
              "        vertical-align: top;\n",
              "    }\n",
              "\n",
              "    .dataframe thead th {\n",
              "        text-align: right;\n",
              "    }\n",
              "</style>\n",
              "<table border=\"1\" class=\"dataframe\">\n",
              "  <thead>\n",
              "    <tr style=\"text-align: right;\">\n",
              "      <th>mes</th>\n",
              "      <th>1</th>\n",
              "      <th>2</th>\n",
              "      <th>3</th>\n",
              "      <th>4</th>\n",
              "      <th>5</th>\n",
              "      <th>6</th>\n",
              "      <th>7</th>\n",
              "      <th>8</th>\n",
              "      <th>9</th>\n",
              "      <th>10</th>\n",
              "      <th>11</th>\n",
              "      <th>12</th>\n",
              "    </tr>\n",
              "    <tr>\n",
              "      <th>año</th>\n",
              "      <th></th>\n",
              "      <th></th>\n",
              "      <th></th>\n",
              "      <th></th>\n",
              "      <th></th>\n",
              "      <th></th>\n",
              "      <th></th>\n",
              "      <th></th>\n",
              "      <th></th>\n",
              "      <th></th>\n",
              "      <th></th>\n",
              "      <th></th>\n",
              "    </tr>\n",
              "  </thead>\n",
              "  <tbody>\n",
              "    <tr>\n",
              "      <th>2010</th>\n",
              "      <td>7212.0</td>\n",
              "      <td>6656.0</td>\n",
              "      <td>8192.0</td>\n",
              "      <td>7424.0</td>\n",
              "      <td>8248.0</td>\n",
              "      <td>8496.0</td>\n",
              "      <td>9168.0</td>\n",
              "      <td>9568.0</td>\n",
              "      <td>9440.0</td>\n",
              "      <td>8392.0</td>\n",
              "      <td>7616.0</td>\n",
              "      <td>7764.0</td>\n",
              "    </tr>\n",
              "    <tr>\n",
              "      <th>2011</th>\n",
              "      <td>7732.0</td>\n",
              "      <td>6576.0</td>\n",
              "      <td>7168.0</td>\n",
              "      <td>7212.0</td>\n",
              "      <td>8328.0</td>\n",
              "      <td>8584.0</td>\n",
              "      <td>9056.0</td>\n",
              "      <td>9280.0</td>\n",
              "      <td>8256.0</td>\n",
              "      <td>7396.0</td>\n",
              "      <td>7880.0</td>\n",
              "      <td>7636.0</td>\n",
              "    </tr>\n",
              "    <tr>\n",
              "      <th>2012</th>\n",
              "      <td>7968.0</td>\n",
              "      <td>6960.0</td>\n",
              "      <td>7408.0</td>\n",
              "      <td>7720.0</td>\n",
              "      <td>8368.0</td>\n",
              "      <td>8624.0</td>\n",
              "      <td>10144.0</td>\n",
              "      <td>9488.0</td>\n",
              "      <td>8136.0</td>\n",
              "      <td>8912.0</td>\n",
              "      <td>7688.0</td>\n",
              "      <td>7740.0</td>\n",
              "    </tr>\n",
              "    <tr>\n",
              "      <th>2013</th>\n",
              "      <td>8112.0</td>\n",
              "      <td>7036.0</td>\n",
              "      <td>7168.0</td>\n",
              "      <td>8068.0</td>\n",
              "      <td>8528.0</td>\n",
              "      <td>8384.0</td>\n",
              "      <td>10272.0</td>\n",
              "      <td>9144.0</td>\n",
              "      <td>8576.0</td>\n",
              "      <td>8824.0</td>\n",
              "      <td>7856.0</td>\n",
              "      <td>8320.0</td>\n",
              "    </tr>\n",
              "    <tr>\n",
              "      <th>2014</th>\n",
              "      <td>8180.0</td>\n",
              "      <td>6896.0</td>\n",
              "      <td>7572.0</td>\n",
              "      <td>8232.0</td>\n",
              "      <td>8312.0</td>\n",
              "      <td>9592.0</td>\n",
              "      <td>10880.0</td>\n",
              "      <td>8840.0</td>\n",
              "      <td>9032.0</td>\n",
              "      <td>8360.0</td>\n",
              "      <td>7904.0</td>\n",
              "      <td>8448.0</td>\n",
              "    </tr>\n",
              "    <tr>\n",
              "      <th>2015</th>\n",
              "      <td>7932.0</td>\n",
              "      <td>7376.0</td>\n",
              "      <td>8028.0</td>\n",
              "      <td>8032.0</td>\n",
              "      <td>8304.0</td>\n",
              "      <td>9384.0</td>\n",
              "      <td>10072.0</td>\n",
              "      <td>9664.0</td>\n",
              "      <td>9224.0</td>\n",
              "      <td>8352.0</td>\n",
              "      <td>8776.0</td>\n",
              "      <td>8560.0</td>\n",
              "    </tr>\n",
              "    <tr>\n",
              "      <th>2016</th>\n",
              "      <td>8072.0</td>\n",
              "      <td>7828.0</td>\n",
              "      <td>7860.0</td>\n",
              "      <td>7960.0</td>\n",
              "      <td>8912.0</td>\n",
              "      <td>9408.0</td>\n",
              "      <td>10328.0</td>\n",
              "      <td>10168.0</td>\n",
              "      <td>9288.0</td>\n",
              "      <td>8192.0</td>\n",
              "      <td>8400.0</td>\n",
              "      <td>7968.0</td>\n",
              "    </tr>\n",
              "    <tr>\n",
              "      <th>2017</th>\n",
              "      <td>8776.0</td>\n",
              "      <td>7472.0</td>\n",
              "      <td>7844.0</td>\n",
              "      <td>7816.0</td>\n",
              "      <td>9448.0</td>\n",
              "      <td>10856.0</td>\n",
              "      <td>10448.0</td>\n",
              "      <td>9824.0</td>\n",
              "      <td>9104.0</td>\n",
              "      <td>9048.0</td>\n",
              "      <td>8096.0</td>\n",
              "      <td>8156.0</td>\n",
              "    </tr>\n",
              "    <tr>\n",
              "      <th>2018</th>\n",
              "      <td>8400.0</td>\n",
              "      <td>7428.0</td>\n",
              "      <td>7904.0</td>\n",
              "      <td>8560.0</td>\n",
              "      <td>8880.0</td>\n",
              "      <td>9816.0</td>\n",
              "      <td>10648.0</td>\n",
              "      <td>10632.0</td>\n",
              "      <td>8864.0</td>\n",
              "      <td>9376.0</td>\n",
              "      <td>8392.0</td>\n",
              "      <td>8384.0</td>\n",
              "    </tr>\n",
              "    <tr>\n",
              "      <th>2019</th>\n",
              "      <td>8504.0</td>\n",
              "      <td>7768.0</td>\n",
              "      <td>7832.0</td>\n",
              "      <td>8920.0</td>\n",
              "      <td>9768.0</td>\n",
              "      <td>9944.0</td>\n",
              "      <td>11136.0</td>\n",
              "      <td>9784.0</td>\n",
              "      <td>9680.0</td>\n",
              "      <td>9216.0</td>\n",
              "      <td>8592.0</td>\n",
              "      <td>8704.0</td>\n",
              "    </tr>\n",
              "    <tr>\n",
              "      <th>2020</th>\n",
              "      <td>9168.0</td>\n",
              "      <td>7676.0</td>\n",
              "      <td>8792.0</td>\n",
              "      <td>8944.0</td>\n",
              "      <td>10328.0</td>\n",
              "      <td>678.0</td>\n",
              "      <td>NaN</td>\n",
              "      <td>NaN</td>\n",
              "      <td>NaN</td>\n",
              "      <td>NaN</td>\n",
              "      <td>NaN</td>\n",
              "      <td>NaN</td>\n",
              "    </tr>\n",
              "  </tbody>\n",
              "</table>\n",
              "</div>"
            ],
            "text/plain": [
              "mes       1       2       3       4   ...      9       10      11      12\n",
              "año                                   ...                                \n",
              "2010  7212.0  6656.0  8192.0  7424.0  ...  9440.0  8392.0  7616.0  7764.0\n",
              "2011  7732.0  6576.0  7168.0  7212.0  ...  8256.0  7396.0  7880.0  7636.0\n",
              "2012  7968.0  6960.0  7408.0  7720.0  ...  8136.0  8912.0  7688.0  7740.0\n",
              "2013  8112.0  7036.0  7168.0  8068.0  ...  8576.0  8824.0  7856.0  8320.0\n",
              "2014  8180.0  6896.0  7572.0  8232.0  ...  9032.0  8360.0  7904.0  8448.0\n",
              "2015  7932.0  7376.0  8028.0  8032.0  ...  9224.0  8352.0  8776.0  8560.0\n",
              "2016  8072.0  7828.0  7860.0  7960.0  ...  9288.0  8192.0  8400.0  7968.0\n",
              "2017  8776.0  7472.0  7844.0  7816.0  ...  9104.0  9048.0  8096.0  8156.0\n",
              "2018  8400.0  7428.0  7904.0  8560.0  ...  8864.0  9376.0  8392.0  8384.0\n",
              "2019  8504.0  7768.0  7832.0  8920.0  ...  9680.0  9216.0  8592.0  8704.0\n",
              "2020  9168.0  7676.0  8792.0  8944.0  ...     NaN     NaN     NaN     NaN\n",
              "\n",
              "[11 rows x 12 columns]"
            ]
          },
          "metadata": {
            "tags": []
          },
          "execution_count": 17
        }
      ]
    },
    {
      "cell_type": "markdown",
      "metadata": {
        "id": "MY9JkJG3tYDJ",
        "colab_type": "text"
      },
      "source": [
        "El 24 de abril, la periodista [@alejandramatus](https://twitter.com/alejandramatus) publica el siguiente tweet:\n",
        "https://twitter.com/alejandramatus/status/1253559179425591296"
      ]
    },
    {
      "cell_type": "code",
      "metadata": {
        "id": "7LkQQrlktyKg",
        "colab_type": "code",
        "outputId": "a4a56e3d-9303-401a-ccce-1d477cf159a5",
        "colab": {
          "base_uri": "https://localhost:8080/",
          "height": 85
        }
      },
      "source": [
        "print(f\"Defunciones inscritas en marzo de 2020: {deaths_year_month.loc[2020,3]}\")\n",
        "print(f\"Defunciones inscritas en marzo de 2019: {deaths_year_month.loc[2019,3]}\")\n",
        "print(f\"Diferencia de defunciones inscritas entre marzo 2019 \\\n",
        "y marzo 2020: {deaths_year_month.loc[2020,3]-deaths_year_month.loc[2019,3]}\")\n",
        "print(f\"Porcentaje de diferencia de defunciones inscritas entre marzo 2019 \\\n",
        "y marzo 2020: {100*(deaths_year_month.loc[2020,3]-deaths_year_month.loc[2019,3])/deaths_year_month.loc[2019,3]:.0f}%\")"
      ],
      "execution_count": 0,
      "outputs": [
        {
          "output_type": "stream",
          "text": [
            "Defunciones inscritas en marzo de 2020: 8792.0\n",
            "Defunciones inscritas en marzo de 2019: 7832.0\n",
            "Diferencia de defunciones inscritas entre marzo 2019 y marzo 2020: 960.0\n",
            "Porcentaje de diferencia de defunciones inscritas entre marzo 2019 y marzo 2020: 12%\n"
          ],
          "name": "stdout"
        }
      ]
    },
    {
      "cell_type": "code",
      "metadata": {
        "id": "kRRj0OsB0MyQ",
        "colab_type": "code",
        "outputId": "7b132678-5e0b-46c8-faa9-e6899b77761e",
        "colab": {
          "base_uri": "https://localhost:8080/",
          "height": 51
        }
      },
      "source": [
        "# Promedio últimos cinco años (PUCA) en marzo\n",
        "PUCA_marzo = deaths_year_month.loc[2015:2019,3].mean()\n",
        "print(f\"Promedio últimos 5 años de defunciones inscritas en marzo: {PUCA_marzo}\")\n",
        "print(f\"Porcentaje de diferencia de defunciones inscritas entre marzo 2020 \\\n",
        "y promedio últimos 5 años: {100*(deaths_year_month.loc[2020,3]-PUCA_marzo)/PUCA_marzo:.0f}%\")"
      ],
      "execution_count": 0,
      "outputs": [
        {
          "output_type": "stream",
          "text": [
            "Promedio últimos 5 años de defunciones inscritas en marzo: 7892.0\n",
            "Porcentaje de diferencia de defunciones inscritas entre marzo 2020 y promedio últimos 5 años: 11%\n"
          ],
          "name": "stdout"
        }
      ]
    },
    {
      "cell_type": "code",
      "metadata": {
        "id": "eeCU39a8B4gU",
        "colab_type": "code",
        "colab": {}
      },
      "source": [
        "dif = [100*(a-PUCA_marzo)/PUCA_marzo for a in deaths_year_month.loc[2015:2020,3]]"
      ],
      "execution_count": 0,
      "outputs": []
    },
    {
      "cell_type": "code",
      "metadata": {
        "id": "x1-l7PVS1HSB",
        "colab_type": "code",
        "outputId": "68bde89a-28ed-4bf8-f4ce-594b3a4d6389",
        "colab": {
          "base_uri": "https://localhost:8080/",
          "height": 554
        }
      },
      "source": [
        "fig, ax1 = plt.subplots(figsize=(10,7))\n",
        "\n",
        "color = 'tab:blue'\n",
        "ax1.bar(np.arange(2015,2021),deaths_year_month.loc[2015:2020,3], label=\"Total\")\n",
        "\n",
        "for i, val in zip(np.arange(2015,2021),deaths_year_month.loc[2015:2020,3]):\n",
        "  ax1.text(i-0.3, val+10, f\" {val:.1f}\", fontsize='x-large')\n",
        "\n",
        "ax1.set_ylim(7200,9000)\n",
        "#ax1.set_ylim(0,)\n",
        "ax1.tick_params(axis='y', labelcolor=color)\n",
        "\n",
        "ax2 = ax1.twinx()\n",
        "\n",
        "color = 'tab:red'\n",
        "ax2.plot(np.arange(2015,2021), dif, color='C3', label=\"% Diferencia de PUCA\")\n",
        "\n",
        "for i, val in zip(np.arange(2015,2021),dif):\n",
        "  ax2.text(i, val, f\"{val:.0f}%\", fontsize='x-large')\n",
        "\n",
        "ax2.set_ylim(-3,15)\n",
        "ax2.tick_params(axis='y', labelcolor=color)\n",
        "\n",
        "plt.legend()\n",
        "plt.title(f\"Evolución mortalidad mes de marzo y diferencia (%) respecto del \\npromedio de los últimos cinco años (PUCA) de {PUCA_marzo}\")\n",
        "fig.tight_layout()\n",
        "plt.annotate('Source: https://github.com/MinCiencia/Datos-COVID19\\nAutor: @alonsosilvaallende', (0,0), (-40,-30), fontsize='large', xycoords='axes fraction', textcoords='offset points', va='top')\n",
        "plt.savefig('2020-06-02-plot1.png', bbox_inches='tight', format='png', dvi=2000)\n",
        "# plt.show()"
      ],
      "execution_count": 0,
      "outputs": [
        {
          "output_type": "display_data",
          "data": {
            "image/png": "[encoded data removed]",
            "text/plain": [
              "<Figure size 720x504 with 2 Axes>"
            ]
          },
          "metadata": {
            "tags": [],
            "needs_background": "light"
          }
        }
      ]
    },
    {
      "cell_type": "markdown",
      "metadata": {
        "id": "3LXM-tB5E0vg",
        "colab_type": "text"
      },
      "source": [
        "A lo que el ministro de Ciencia [@acouvecorrea](https://twitter.com/acouvecorrea) responde\n",
        "https://twitter.com/acouvecorrea/status/1253752475926048768"
      ]
    },
    {
      "cell_type": "markdown",
      "metadata": {
        "id": "3aonUx1JfveN",
        "colab_type": "text"
      },
      "source": [
        "¿Es el efecto \"lunes/fin de semana\" real?"
      ]
    },
    {
      "cell_type": "code",
      "metadata": {
        "id": "tMdtvGWhspFn",
        "colab_type": "code",
        "colab": {}
      },
      "source": [
        "data = deaths[[\"día de la semana\", \"fallecidos\"]].pivot(columns=\"día de la semana\")"
      ],
      "execution_count": 0,
      "outputs": []
    },
    {
      "cell_type": "code",
      "metadata": {
        "id": "YBH6_aiGgKz2",
        "colab_type": "code",
        "colab": {}
      },
      "source": [
        "data = data.rename(columns={0: \"Lunes\", 1: \"Martes\", 2: \"Miércoles\", 3: \"Jueves\", 4: \"Viernes\", 5: \"Sábado\", 6: \"Domingo\"})"
      ],
      "execution_count": 0,
      "outputs": []
    },
    {
      "cell_type": "code",
      "metadata": {
        "id": "5YrFDmJJsqvo",
        "colab_type": "code",
        "outputId": "0b5f1e88-2fa4-4dc7-8f5d-4311137058cf",
        "colab": {
          "base_uri": "https://localhost:8080/",
          "height": 390
        }
      },
      "source": [
        "data.head(10)"
      ],
      "execution_count": 0,
      "outputs": [
        {
          "output_type": "execute_result",
          "data": {
            "text/html": [
              "<div>\n",
              "<style scoped>\n",
              "    .dataframe tbody tr th:only-of-type {\n",
              "        vertical-align: middle;\n",
              "    }\n",
              "\n",
              "    .dataframe tbody tr th {\n",
              "        vertical-align: top;\n",
              "    }\n",
              "\n",
              "    .dataframe thead tr th {\n",
              "        text-align: left;\n",
              "    }\n",
              "</style>\n",
              "<table border=\"1\" class=\"dataframe\">\n",
              "  <thead>\n",
              "    <tr>\n",
              "      <th></th>\n",
              "      <th colspan=\"7\" halign=\"left\">fallecidos</th>\n",
              "    </tr>\n",
              "    <tr>\n",
              "      <th>día de la semana</th>\n",
              "      <th>Lunes</th>\n",
              "      <th>Martes</th>\n",
              "      <th>Miércoles</th>\n",
              "      <th>Jueves</th>\n",
              "      <th>Viernes</th>\n",
              "      <th>Sábado</th>\n",
              "      <th>Domingo</th>\n",
              "    </tr>\n",
              "  </thead>\n",
              "  <tbody>\n",
              "    <tr>\n",
              "      <th>0</th>\n",
              "      <td>NaN</td>\n",
              "      <td>NaN</td>\n",
              "      <td>NaN</td>\n",
              "      <td>NaN</td>\n",
              "      <td>88.0</td>\n",
              "      <td>NaN</td>\n",
              "      <td>NaN</td>\n",
              "    </tr>\n",
              "    <tr>\n",
              "      <th>1</th>\n",
              "      <td>NaN</td>\n",
              "      <td>NaN</td>\n",
              "      <td>NaN</td>\n",
              "      <td>NaN</td>\n",
              "      <td>NaN</td>\n",
              "      <td>120.0</td>\n",
              "      <td>NaN</td>\n",
              "    </tr>\n",
              "    <tr>\n",
              "      <th>2</th>\n",
              "      <td>NaN</td>\n",
              "      <td>NaN</td>\n",
              "      <td>NaN</td>\n",
              "      <td>NaN</td>\n",
              "      <td>NaN</td>\n",
              "      <td>NaN</td>\n",
              "      <td>83.0</td>\n",
              "    </tr>\n",
              "    <tr>\n",
              "      <th>3</th>\n",
              "      <td>641.0</td>\n",
              "      <td>NaN</td>\n",
              "      <td>NaN</td>\n",
              "      <td>NaN</td>\n",
              "      <td>NaN</td>\n",
              "      <td>NaN</td>\n",
              "      <td>NaN</td>\n",
              "    </tr>\n",
              "    <tr>\n",
              "      <th>4</th>\n",
              "      <td>NaN</td>\n",
              "      <td>275.0</td>\n",
              "      <td>NaN</td>\n",
              "      <td>NaN</td>\n",
              "      <td>NaN</td>\n",
              "      <td>NaN</td>\n",
              "      <td>NaN</td>\n",
              "    </tr>\n",
              "    <tr>\n",
              "      <th>5</th>\n",
              "      <td>NaN</td>\n",
              "      <td>NaN</td>\n",
              "      <td>284.0</td>\n",
              "      <td>NaN</td>\n",
              "      <td>NaN</td>\n",
              "      <td>NaN</td>\n",
              "      <td>NaN</td>\n",
              "    </tr>\n",
              "    <tr>\n",
              "      <th>6</th>\n",
              "      <td>NaN</td>\n",
              "      <td>NaN</td>\n",
              "      <td>NaN</td>\n",
              "      <td>248.0</td>\n",
              "      <td>NaN</td>\n",
              "      <td>NaN</td>\n",
              "      <td>NaN</td>\n",
              "    </tr>\n",
              "    <tr>\n",
              "      <th>7</th>\n",
              "      <td>NaN</td>\n",
              "      <td>NaN</td>\n",
              "      <td>NaN</td>\n",
              "      <td>NaN</td>\n",
              "      <td>189.0</td>\n",
              "      <td>NaN</td>\n",
              "      <td>NaN</td>\n",
              "    </tr>\n",
              "    <tr>\n",
              "      <th>8</th>\n",
              "      <td>NaN</td>\n",
              "      <td>NaN</td>\n",
              "      <td>NaN</td>\n",
              "      <td>NaN</td>\n",
              "      <td>NaN</td>\n",
              "      <td>85.0</td>\n",
              "      <td>NaN</td>\n",
              "    </tr>\n",
              "    <tr>\n",
              "      <th>9</th>\n",
              "      <td>NaN</td>\n",
              "      <td>NaN</td>\n",
              "      <td>NaN</td>\n",
              "      <td>NaN</td>\n",
              "      <td>NaN</td>\n",
              "      <td>NaN</td>\n",
              "      <td>64.0</td>\n",
              "    </tr>\n",
              "  </tbody>\n",
              "</table>\n",
              "</div>"
            ],
            "text/plain": [
              "                 fallecidos                                               \n",
              "día de la semana      Lunes Martes Miércoles Jueves Viernes Sábado Domingo\n",
              "0                       NaN    NaN       NaN    NaN    88.0    NaN     NaN\n",
              "1                       NaN    NaN       NaN    NaN     NaN  120.0     NaN\n",
              "2                       NaN    NaN       NaN    NaN     NaN    NaN    83.0\n",
              "3                     641.0    NaN       NaN    NaN     NaN    NaN     NaN\n",
              "4                       NaN  275.0       NaN    NaN     NaN    NaN     NaN\n",
              "5                       NaN    NaN     284.0    NaN     NaN    NaN     NaN\n",
              "6                       NaN    NaN       NaN  248.0     NaN    NaN     NaN\n",
              "7                       NaN    NaN       NaN    NaN   189.0    NaN     NaN\n",
              "8                       NaN    NaN       NaN    NaN     NaN   85.0     NaN\n",
              "9                       NaN    NaN       NaN    NaN     NaN    NaN    64.0"
            ]
          },
          "metadata": {
            "tags": []
          },
          "execution_count": 24
        }
      ]
    },
    {
      "cell_type": "code",
      "metadata": {
        "id": "RrlHxLcws7B7",
        "colab_type": "code",
        "outputId": "0d9a0c86-2aa8-48d3-a4a2-827a87bb0e3b",
        "colab": {
          "base_uri": "https://localhost:8080/",
          "height": 581
        }
      },
      "source": [
        "fig, ax = plt.subplots(figsize=(10,7))\n",
        "data.boxplot(ax=ax)\n",
        "ax.set_title(f'Defunciones inscritas en Chile por día de la semana', fontsize='large')\n",
        "ax.set_xlabel(f'', fontsize='large')\n",
        "ax.set_ylabel(f'número de defunciones', fontsize='large')\n",
        "\n",
        "ax.set_xticks(np.arange(1,8))\n",
        "ax.set_xticklabels([\"Lunes\", \"Martes\", \"Miércoles\", \"Jueves\", \"Viernes\", \"Sábado\", \"Domingo\"], fontsize=\"large\")\n",
        "fig.tight_layout()\n",
        "plt.annotate('Source: https://github.com/MinCiencia/Datos-COVID19\\nAutor: @alonsosilvaallende', (0,0), (-80,-60), fontsize='large', xycoords='axes fraction', textcoords='offset points', va='top')\n",
        "plt.savefig('2020-06-02-plot2.png', bbox_inches='tight', format='png', dvi=2000)"
      ],
      "execution_count": 0,
      "outputs": [
        {
          "output_type": "display_data",
          "data": {
            "image/png": "[encoded data removed]",
            "text/plain": [
              "<Figure size 720x504 with 1 Axes>"
            ]
          },
          "metadata": {
            "tags": [],
            "needs_background": "light"
          }
        }
      ]
    },
    {
      "cell_type": "code",
      "metadata": {
        "id": "VfFwqBm7gDaq",
        "colab_type": "code",
        "outputId": "d6bec9b5-8039-41a9-d226-0bb089fcc509",
        "colab": {
          "base_uri": "https://localhost:8080/",
          "height": 170
        }
      },
      "source": [
        "data.median() \n",
        "# data.mean()"
      ],
      "execution_count": 0,
      "outputs": [
        {
          "output_type": "execute_result",
          "data": {
            "text/plain": [
              "            día de la semana\n",
              "fallecidos  Lunes               577.117647\n",
              "            Martes              332.813996\n",
              "            Miércoles           295.876611\n",
              "            Jueves              290.515654\n",
              "            Viernes             304.270221\n",
              "            Sábado               88.939338\n",
              "            Domingo              83.987132\n",
              "dtype: float64"
            ]
          },
          "metadata": {
            "tags": []
          },
          "execution_count": 27
        }
      ]
    },
    {
      "cell_type": "markdown",
      "metadata": {
        "id": "fntHmY0jhEom",
        "colab_type": "text"
      },
      "source": [
        "Datos de población (INE): https://www.ine.cl/estadisticas/sociales/demografia-y-vitales/proyecciones-de-poblacion"
      ]
    },
    {
      "cell_type": "code",
      "metadata": {
        "id": "0a_4MH_Hhsmu",
        "colab_type": "code",
        "colab": {}
      },
      "source": [
        "population = pd.read_csv(\"http://www.ine.cl/docs/default-source/proyecciones-de-poblacion/cuadros-estadisticos/base-2017/ine_estimaciones-y-proyecciones-de-poblaci%C3%B3n-1992-2050_base-2017_base-de-datos.csv\",\n",
        "                         encoding='ISO-8859-1', sep=\";\", header=1, thousands='.')"
      ],
      "execution_count": 0,
      "outputs": []
    },
    {
      "cell_type": "code",
      "metadata": {
        "id": "rEOd25qZiajX",
        "colab_type": "code",
        "outputId": "afdf3bc3-e91b-4e4a-f4d7-67a07a46303d",
        "colab": {
          "base_uri": "https://localhost:8080/",
          "height": 208
        }
      },
      "source": [
        "population.query(\"EDAD=='TOTAL'\")"
      ],
      "execution_count": 0,
      "outputs": [
        {
          "output_type": "execute_result",
          "data": {
            "text/html": [
              "<div>\n",
              "<style scoped>\n",
              "    .dataframe tbody tr th:only-of-type {\n",
              "        vertical-align: middle;\n",
              "    }\n",
              "\n",
              "    .dataframe tbody tr th {\n",
              "        vertical-align: top;\n",
              "    }\n",
              "\n",
              "    .dataframe thead th {\n",
              "        text-align: right;\n",
              "    }\n",
              "</style>\n",
              "<table border=\"1\" class=\"dataframe\">\n",
              "  <thead>\n",
              "    <tr style=\"text-align: right;\">\n",
              "      <th></th>\n",
              "      <th>EDAD</th>\n",
              "      <th>1992</th>\n",
              "      <th>1993</th>\n",
              "      <th>1994</th>\n",
              "      <th>1995</th>\n",
              "      <th>1996</th>\n",
              "      <th>1997</th>\n",
              "      <th>1998</th>\n",
              "      <th>1999</th>\n",
              "      <th>2000</th>\n",
              "      <th>2001</th>\n",
              "      <th>2002</th>\n",
              "      <th>2003</th>\n",
              "      <th>2004</th>\n",
              "      <th>2005</th>\n",
              "      <th>2006</th>\n",
              "      <th>2007</th>\n",
              "      <th>2008</th>\n",
              "      <th>2009</th>\n",
              "      <th>2010</th>\n",
              "      <th>2011</th>\n",
              "      <th>2012</th>\n",
              "      <th>2013</th>\n",
              "      <th>2014</th>\n",
              "      <th>2015</th>\n",
              "      <th>2016</th>\n",
              "      <th>2017</th>\n",
              "      <th>2018</th>\n",
              "      <th>2019</th>\n",
              "      <th>2020</th>\n",
              "      <th>2021</th>\n",
              "      <th>2022</th>\n",
              "      <th>2023</th>\n",
              "      <th>2024</th>\n",
              "      <th>2025</th>\n",
              "      <th>2026</th>\n",
              "      <th>2027</th>\n",
              "      <th>2028</th>\n",
              "      <th>2029</th>\n",
              "      <th>2030</th>\n",
              "      <th>...</th>\n",
              "      <th>Unnamed: 80</th>\n",
              "      <th>Unnamed: 81</th>\n",
              "      <th>Unnamed: 82</th>\n",
              "      <th>Unnamed: 83</th>\n",
              "      <th>Unnamed: 84</th>\n",
              "      <th>Unnamed: 85</th>\n",
              "      <th>Unnamed: 86</th>\n",
              "      <th>Unnamed: 87</th>\n",
              "      <th>Unnamed: 88</th>\n",
              "      <th>Unnamed: 89</th>\n",
              "      <th>Unnamed: 90</th>\n",
              "      <th>Unnamed: 91</th>\n",
              "      <th>Unnamed: 92</th>\n",
              "      <th>Unnamed: 93</th>\n",
              "      <th>Unnamed: 94</th>\n",
              "      <th>Unnamed: 95</th>\n",
              "      <th>Unnamed: 96</th>\n",
              "      <th>Unnamed: 97</th>\n",
              "      <th>Unnamed: 98</th>\n",
              "      <th>Unnamed: 99</th>\n",
              "      <th>Unnamed: 100</th>\n",
              "      <th>Unnamed: 101</th>\n",
              "      <th>Unnamed: 102</th>\n",
              "      <th>Unnamed: 103</th>\n",
              "      <th>Unnamed: 104</th>\n",
              "      <th>Unnamed: 105</th>\n",
              "      <th>Unnamed: 106</th>\n",
              "      <th>Unnamed: 107</th>\n",
              "      <th>Unnamed: 108</th>\n",
              "      <th>Unnamed: 109</th>\n",
              "      <th>Unnamed: 110</th>\n",
              "      <th>Unnamed: 111</th>\n",
              "      <th>Unnamed: 112</th>\n",
              "      <th>Unnamed: 113</th>\n",
              "      <th>Unnamed: 114</th>\n",
              "      <th>Unnamed: 115</th>\n",
              "      <th>Unnamed: 116</th>\n",
              "      <th>Unnamed: 117</th>\n",
              "      <th>Unnamed: 118</th>\n",
              "      <th>Unnamed: 119</th>\n",
              "    </tr>\n",
              "  </thead>\n",
              "  <tbody>\n",
              "    <tr>\n",
              "      <th>101</th>\n",
              "      <td>TOTAL</td>\n",
              "      <td>13737062.0</td>\n",
              "      <td>13956766.0</td>\n",
              "      <td>14171821.0</td>\n",
              "      <td>14381249.0</td>\n",
              "      <td>14584947.0</td>\n",
              "      <td>14782706.0</td>\n",
              "      <td>14974898.0</td>\n",
              "      <td>15162353.0</td>\n",
              "      <td>15343326.0</td>\n",
              "      <td>15520049.0</td>\n",
              "      <td>15691701.0</td>\n",
              "      <td>15856977.0</td>\n",
              "      <td>16022133.0</td>\n",
              "      <td>16183489.0</td>\n",
              "      <td>16347890.0</td>\n",
              "      <td>16517933.0</td>\n",
              "      <td>16697754.0</td>\n",
              "      <td>16881078.0</td>\n",
              "      <td>17063927.0</td>\n",
              "      <td>17254159.0</td>\n",
              "      <td>17443491.0</td>\n",
              "      <td>17611902.0</td>\n",
              "      <td>17787617.0</td>\n",
              "      <td>17971423.0</td>\n",
              "      <td>18167147.0</td>\n",
              "      <td>18419192.0</td>\n",
              "      <td>18751405.0</td>\n",
              "      <td>19107216.0</td>\n",
              "      <td>19458310.0</td>\n",
              "      <td>19678363.0</td>\n",
              "      <td>19828563.0</td>\n",
              "      <td>19960889.0</td>\n",
              "      <td>20086377.0</td>\n",
              "      <td>20206953.0</td>\n",
              "      <td>20322807.0</td>\n",
              "      <td>20433791.0</td>\n",
              "      <td>20539666.0</td>\n",
              "      <td>20640230.0</td>\n",
              "      <td>20735289.0</td>\n",
              "      <td>...</td>\n",
              "      <td>NaN</td>\n",
              "      <td>NaN</td>\n",
              "      <td>NaN</td>\n",
              "      <td>NaN</td>\n",
              "      <td>NaN</td>\n",
              "      <td>NaN</td>\n",
              "      <td>NaN</td>\n",
              "      <td>NaN</td>\n",
              "      <td>NaN</td>\n",
              "      <td>NaN</td>\n",
              "      <td>NaN</td>\n",
              "      <td>NaN</td>\n",
              "      <td>NaN</td>\n",
              "      <td>NaN</td>\n",
              "      <td>NaN</td>\n",
              "      <td>NaN</td>\n",
              "      <td>NaN</td>\n",
              "      <td>NaN</td>\n",
              "      <td>NaN</td>\n",
              "      <td>NaN</td>\n",
              "      <td>NaN</td>\n",
              "      <td>NaN</td>\n",
              "      <td>NaN</td>\n",
              "      <td>NaN</td>\n",
              "      <td>NaN</td>\n",
              "      <td>NaN</td>\n",
              "      <td>NaN</td>\n",
              "      <td>NaN</td>\n",
              "      <td>NaN</td>\n",
              "      <td>NaN</td>\n",
              "      <td>NaN</td>\n",
              "      <td>NaN</td>\n",
              "      <td>NaN</td>\n",
              "      <td>NaN</td>\n",
              "      <td>NaN</td>\n",
              "      <td>NaN</td>\n",
              "      <td>NaN</td>\n",
              "      <td>NaN</td>\n",
              "      <td>NaN</td>\n",
              "      <td>NaN</td>\n",
              "    </tr>\n",
              "    <tr>\n",
              "      <th>206</th>\n",
              "      <td>TOTAL</td>\n",
              "      <td>6750491.0</td>\n",
              "      <td>6859965.0</td>\n",
              "      <td>6967089.0</td>\n",
              "      <td>7071295.0</td>\n",
              "      <td>7172543.0</td>\n",
              "      <td>7270723.0</td>\n",
              "      <td>7366044.0</td>\n",
              "      <td>7458925.0</td>\n",
              "      <td>7548498.0</td>\n",
              "      <td>7635895.0</td>\n",
              "      <td>7720701.0</td>\n",
              "      <td>7802261.0</td>\n",
              "      <td>7883618.0</td>\n",
              "      <td>7963051.0</td>\n",
              "      <td>8043964.0</td>\n",
              "      <td>8127739.0</td>\n",
              "      <td>8216437.0</td>\n",
              "      <td>8307013.0</td>\n",
              "      <td>8397402.0</td>\n",
              "      <td>8491323.0</td>\n",
              "      <td>8584706.0</td>\n",
              "      <td>8667644.0</td>\n",
              "      <td>8754428.0</td>\n",
              "      <td>8845449.0</td>\n",
              "      <td>8943482.0</td>\n",
              "      <td>9074217.0</td>\n",
              "      <td>9244484.0</td>\n",
              "      <td>9424139.0</td>\n",
              "      <td>9599101.0</td>\n",
              "      <td>9708512.0</td>\n",
              "      <td>9782978.0</td>\n",
              "      <td>9848466.0</td>\n",
              "      <td>9910500.0</td>\n",
              "      <td>9970025.0</td>\n",
              "      <td>10027134.0</td>\n",
              "      <td>10081754.0</td>\n",
              "      <td>10133749.0</td>\n",
              "      <td>10183028.0</td>\n",
              "      <td>10229496.0</td>\n",
              "      <td>...</td>\n",
              "      <td>NaN</td>\n",
              "      <td>NaN</td>\n",
              "      <td>NaN</td>\n",
              "      <td>NaN</td>\n",
              "      <td>NaN</td>\n",
              "      <td>NaN</td>\n",
              "      <td>NaN</td>\n",
              "      <td>NaN</td>\n",
              "      <td>NaN</td>\n",
              "      <td>NaN</td>\n",
              "      <td>NaN</td>\n",
              "      <td>NaN</td>\n",
              "      <td>NaN</td>\n",
              "      <td>NaN</td>\n",
              "      <td>NaN</td>\n",
              "      <td>NaN</td>\n",
              "      <td>NaN</td>\n",
              "      <td>NaN</td>\n",
              "      <td>NaN</td>\n",
              "      <td>NaN</td>\n",
              "      <td>NaN</td>\n",
              "      <td>NaN</td>\n",
              "      <td>NaN</td>\n",
              "      <td>NaN</td>\n",
              "      <td>NaN</td>\n",
              "      <td>NaN</td>\n",
              "      <td>NaN</td>\n",
              "      <td>NaN</td>\n",
              "      <td>NaN</td>\n",
              "      <td>NaN</td>\n",
              "      <td>NaN</td>\n",
              "      <td>NaN</td>\n",
              "      <td>NaN</td>\n",
              "      <td>NaN</td>\n",
              "      <td>NaN</td>\n",
              "      <td>NaN</td>\n",
              "      <td>NaN</td>\n",
              "      <td>NaN</td>\n",
              "      <td>NaN</td>\n",
              "      <td>NaN</td>\n",
              "    </tr>\n",
              "    <tr>\n",
              "      <th>311</th>\n",
              "      <td>TOTAL</td>\n",
              "      <td>6986571.0</td>\n",
              "      <td>7096801.0</td>\n",
              "      <td>7204732.0</td>\n",
              "      <td>7309954.0</td>\n",
              "      <td>7412404.0</td>\n",
              "      <td>7511983.0</td>\n",
              "      <td>7608854.0</td>\n",
              "      <td>7703428.0</td>\n",
              "      <td>7794828.0</td>\n",
              "      <td>7884154.0</td>\n",
              "      <td>7971000.0</td>\n",
              "      <td>8054716.0</td>\n",
              "      <td>8138515.0</td>\n",
              "      <td>8220438.0</td>\n",
              "      <td>8303926.0</td>\n",
              "      <td>8390194.0</td>\n",
              "      <td>8481317.0</td>\n",
              "      <td>8574065.0</td>\n",
              "      <td>8666525.0</td>\n",
              "      <td>8762836.0</td>\n",
              "      <td>8858785.0</td>\n",
              "      <td>8944258.0</td>\n",
              "      <td>9033189.0</td>\n",
              "      <td>9125974.0</td>\n",
              "      <td>9223665.0</td>\n",
              "      <td>9344975.0</td>\n",
              "      <td>9506921.0</td>\n",
              "      <td>9683077.0</td>\n",
              "      <td>9859209.0</td>\n",
              "      <td>9969851.0</td>\n",
              "      <td>10045585.0</td>\n",
              "      <td>10112423.0</td>\n",
              "      <td>10175877.0</td>\n",
              "      <td>10236928.0</td>\n",
              "      <td>10295673.0</td>\n",
              "      <td>10352037.0</td>\n",
              "      <td>10405917.0</td>\n",
              "      <td>10457202.0</td>\n",
              "      <td>10505793.0</td>\n",
              "      <td>...</td>\n",
              "      <td>NaN</td>\n",
              "      <td>NaN</td>\n",
              "      <td>NaN</td>\n",
              "      <td>NaN</td>\n",
              "      <td>NaN</td>\n",
              "      <td>NaN</td>\n",
              "      <td>NaN</td>\n",
              "      <td>NaN</td>\n",
              "      <td>NaN</td>\n",
              "      <td>NaN</td>\n",
              "      <td>NaN</td>\n",
              "      <td>NaN</td>\n",
              "      <td>NaN</td>\n",
              "      <td>NaN</td>\n",
              "      <td>NaN</td>\n",
              "      <td>NaN</td>\n",
              "      <td>NaN</td>\n",
              "      <td>NaN</td>\n",
              "      <td>NaN</td>\n",
              "      <td>NaN</td>\n",
              "      <td>NaN</td>\n",
              "      <td>NaN</td>\n",
              "      <td>NaN</td>\n",
              "      <td>NaN</td>\n",
              "      <td>NaN</td>\n",
              "      <td>NaN</td>\n",
              "      <td>NaN</td>\n",
              "      <td>NaN</td>\n",
              "      <td>NaN</td>\n",
              "      <td>NaN</td>\n",
              "      <td>NaN</td>\n",
              "      <td>NaN</td>\n",
              "      <td>NaN</td>\n",
              "      <td>NaN</td>\n",
              "      <td>NaN</td>\n",
              "      <td>NaN</td>\n",
              "      <td>NaN</td>\n",
              "      <td>NaN</td>\n",
              "      <td>NaN</td>\n",
              "      <td>NaN</td>\n",
              "    </tr>\n",
              "  </tbody>\n",
              "</table>\n",
              "<p>3 rows × 120 columns</p>\n",
              "</div>"
            ],
            "text/plain": [
              "      EDAD        1992        1993  ...  Unnamed: 117  Unnamed: 118  Unnamed: 119\n",
              "101  TOTAL  13737062.0  13956766.0  ...           NaN           NaN           NaN\n",
              "206  TOTAL   6750491.0   6859965.0  ...           NaN           NaN           NaN\n",
              "311  TOTAL   6986571.0   7096801.0  ...           NaN           NaN           NaN\n",
              "\n",
              "[3 rows x 120 columns]"
            ]
          },
          "metadata": {
            "tags": []
          },
          "execution_count": 29
        }
      ]
    },
    {
      "cell_type": "code",
      "metadata": {
        "id": "_J8moDaFlDMg",
        "colab_type": "code",
        "colab": {}
      },
      "source": [
        "pop = population.iloc[101]"
      ],
      "execution_count": 0,
      "outputs": []
    },
    {
      "cell_type": "code",
      "metadata": {
        "id": "MKAFncxhlL6b",
        "colab_type": "code",
        "outputId": "e75b9dd0-9260-4106-ec23-03deefbb95c2",
        "colab": {
          "base_uri": "https://localhost:8080/",
          "height": 34
        }
      },
      "source": [
        "pop[\"2019\"], pop[\"2020\"]"
      ],
      "execution_count": 0,
      "outputs": [
        {
          "output_type": "execute_result",
          "data": {
            "text/plain": [
              "(19107216.0, 19458310.0)"
            ]
          },
          "metadata": {
            "tags": []
          },
          "execution_count": 31
        }
      ]
    },
    {
      "cell_type": "code",
      "metadata": {
        "id": "q_OMPE-Ul8Hp",
        "colab_type": "code",
        "colab": {}
      },
      "source": [
        "deaths_original = deaths[[\"fecha\", \"fallecidos\"]].set_index(\"fecha\")"
      ],
      "execution_count": 0,
      "outputs": []
    },
    {
      "cell_type": "code",
      "metadata": {
        "id": "56yIo28dmv86",
        "colab_type": "code",
        "colab": {}
      },
      "source": [
        "start_date = \"2020-03-01\""
      ],
      "execution_count": 0,
      "outputs": []
    },
    {
      "cell_type": "code",
      "metadata": {
        "id": "UYi_fskXnEbj",
        "colab_type": "code",
        "outputId": "5e0e638a-e374-43a2-9a3c-330ab9c2dd55",
        "colab": {
          "base_uri": "https://localhost:8080/",
          "height": 34
        }
      },
      "source": [
        "pd.to_datetime(start_date)+pd.DateOffset(days=9)"
      ],
      "execution_count": 0,
      "outputs": [
        {
          "output_type": "execute_result",
          "data": {
            "text/plain": [
              "Timestamp('2020-03-10 00:00:00')"
            ]
          },
          "metadata": {
            "tags": []
          },
          "execution_count": 34
        }
      ]
    },
    {
      "cell_type": "code",
      "metadata": {
        "id": "SutDz4WNV0yF",
        "colab_type": "code",
        "colab": {}
      },
      "source": [
        "deaths_2019 = []\n",
        "deaths_2020 = []\n",
        "start_date_2019 = \"2019-03-01\"\n",
        "start_date_2020 = \"2020-03-01\"\n",
        "for i in np.arange(5):\n",
        "  start_interval_2019 = pd.to_datetime(start_date_2019)+pd.DateOffset(days=int(0+7*i))\n",
        "  end_interval_2019 = pd.to_datetime(start_date_2019)+pd.DateOffset(days=int(6+7*i))\n",
        "\n",
        "  start_interval_2020 = pd.to_datetime(start_date_2020)+pd.DateOffset(days=int(0+7*i))\n",
        "  end_interval_2020 = pd.to_datetime(start_date_2020)+pd.DateOffset(days=int(6+7*i))\n",
        "\n",
        "  deaths_2019.append(deaths_original[\"fallecidos\"].loc[start_interval_2019:end_interval_2019].sum())\n",
        "  deaths_2020.append(deaths_original[\"fallecidos\"].loc[start_interval_2020:end_interval_2020].sum())"
      ],
      "execution_count": 0,
      "outputs": []
    },
    {
      "cell_type": "code",
      "metadata": {
        "id": "etrqofJHWdFz",
        "colab_type": "code",
        "outputId": "cce999a6-3e07-4ac3-e05d-ce49a295ce62",
        "colab": {
          "base_uri": "https://localhost:8080/",
          "height": 34
        }
      },
      "source": [
        "deaths_2019"
      ],
      "execution_count": 0,
      "outputs": [
        {
          "output_type": "execute_result",
          "data": {
            "text/plain": [
              "[1820, 1864, 1827, 1899, 1887]"
            ]
          },
          "metadata": {
            "tags": []
          },
          "execution_count": 36
        }
      ]
    },
    {
      "cell_type": "code",
      "metadata": {
        "id": "YXSwl8LuWqPC",
        "colab_type": "code",
        "outputId": "15447f6b-ca94-4512-b7a5-7110a8cbc850",
        "colab": {
          "base_uri": "https://localhost:8080/",
          "height": 34
        }
      },
      "source": [
        "deaths_2020"
      ],
      "execution_count": 0,
      "outputs": [
        {
          "output_type": "execute_result",
          "data": {
            "text/plain": [
              "[1977, 1945, 1982, 1925, 2015]"
            ]
          },
          "metadata": {
            "tags": []
          },
          "execution_count": 37
        }
      ]
    },
    {
      "cell_type": "code",
      "metadata": {
        "id": "otAhGqzNXl2Z",
        "colab_type": "code",
        "colab": {}
      },
      "source": [
        "data = pd.DataFrame()\n",
        "data[2019] = 1000000*np.array(deaths_2019)/pop[\"2019\"]\n",
        "data[2020] = 1000000*np.array(deaths_2020)/pop[\"2020\"]"
      ],
      "execution_count": 0,
      "outputs": []
    },
    {
      "cell_type": "code",
      "metadata": {
        "id": "hp_oP1HpYCkC",
        "colab_type": "code",
        "outputId": "acd9187e-4103-4a62-8c50-25a81164a783",
        "colab": {
          "base_uri": "https://localhost:8080/",
          "height": 204
        }
      },
      "source": [
        "data"
      ],
      "execution_count": 0,
      "outputs": [
        {
          "output_type": "execute_result",
          "data": {
            "text/html": [
              "<div>\n",
              "<style scoped>\n",
              "    .dataframe tbody tr th:only-of-type {\n",
              "        vertical-align: middle;\n",
              "    }\n",
              "\n",
              "    .dataframe tbody tr th {\n",
              "        vertical-align: top;\n",
              "    }\n",
              "\n",
              "    .dataframe thead th {\n",
              "        text-align: right;\n",
              "    }\n",
              "</style>\n",
              "<table border=\"1\" class=\"dataframe\">\n",
              "  <thead>\n",
              "    <tr style=\"text-align: right;\">\n",
              "      <th></th>\n",
              "      <th>2019</th>\n",
              "      <th>2020</th>\n",
              "    </tr>\n",
              "  </thead>\n",
              "  <tbody>\n",
              "    <tr>\n",
              "      <th>0</th>\n",
              "      <td>95.251972</td>\n",
              "      <td>101.601835</td>\n",
              "    </tr>\n",
              "    <tr>\n",
              "      <th>1</th>\n",
              "      <td>97.554767</td>\n",
              "      <td>99.957293</td>\n",
              "    </tr>\n",
              "    <tr>\n",
              "      <th>2</th>\n",
              "      <td>95.618326</td>\n",
              "      <td>101.858795</td>\n",
              "    </tr>\n",
              "    <tr>\n",
              "      <th>3</th>\n",
              "      <td>99.386535</td>\n",
              "      <td>98.929455</td>\n",
              "    </tr>\n",
              "    <tr>\n",
              "      <th>4</th>\n",
              "      <td>98.758500</td>\n",
              "      <td>103.554728</td>\n",
              "    </tr>\n",
              "  </tbody>\n",
              "</table>\n",
              "</div>"
            ],
            "text/plain": [
              "        2019        2020\n",
              "0  95.251972  101.601835\n",
              "1  97.554767   99.957293\n",
              "2  95.618326  101.858795\n",
              "3  99.386535   98.929455\n",
              "4  98.758500  103.554728"
            ]
          },
          "metadata": {
            "tags": []
          },
          "execution_count": 39
        }
      ]
    },
    {
      "cell_type": "code",
      "metadata": {
        "id": "v2PGQX-mHKL4",
        "colab_type": "code",
        "outputId": "21434f35-11e2-4e82-d3d3-e9081e19156b",
        "colab": {
          "base_uri": "https://localhost:8080/",
          "height": 492
        }
      },
      "source": [
        "fig, ax = plt.subplots(figsize=(9,6))\n",
        "data.plot(kind='bar', ax=ax, fontsize='x-large')\n",
        "for i, val in enumerate(data[2019]):\n",
        "  ax.text(i-0.2, val, f\"{val:.0f}\", fontsize='x-large')\n",
        "for i, val in enumerate(data[2020]):\n",
        "  ax.text(i, val, f\"{val:.0f}\", fontsize='x-large')\n",
        "ax.set_xticks(np.arange(0,5))\n",
        "ax.set_xticklabels([\"Semana 1\\n(01/03-07/03)\", \"Semana 2\\n(08/03-14/03)\", \"Semana 3\\n(15/03-21/03)\", \"Semana 4\\n(22/03-28/03)\", \"Semana 5\\n(29/03-04/04)\"], rotation=0)\n",
        "plt.title(\"Defunciones semanales por millón de habitantes\\n (2019-2020)\")\n",
        "plt.legend(loc='right')\n",
        "ax.set_ylabel(\"Número de defunciones semanales, por millón de\\nhabitantes\")\n",
        "fig.tight_layout()\n",
        "plt.annotate('Source: https://github.com/MinCiencia/Datos-COVID19\\nAutor: @alonsosilvaallende', (0,0), (-40,-60), fontsize='large', xycoords='axes fraction', textcoords='offset points', va='top')\n",
        "plt.savefig('2020-06-02-plot3.png', bbox_inches='tight', format='png', dvi=2000)\n",
        "#plt.show()"
      ],
      "execution_count": 0,
      "outputs": [
        {
          "output_type": "display_data",
          "data": {
            "image/png": "[encoded data removed]",
            "text/plain": [
              "<Figure size 648x432 with 1 Axes>"
            ]
          },
          "metadata": {
            "tags": [],
            "needs_background": "light"
          }
        }
      ]
    },
    {
      "cell_type": "markdown",
      "metadata": {
        "id": "zH_w5u1EckXE",
        "colab_type": "text"
      },
      "source": [
        "[@datosnomitos](https://twitter.com/datosnomitos) publica el siguiente tweet:\n",
        "https://twitter.com/datosnomitos/status/1266564809249763332"
      ]
    },
    {
      "cell_type": "code",
      "metadata": {
        "id": "ZztoItUbcFbA",
        "colab_type": "code",
        "colab": {}
      },
      "source": [
        "df_dnm = pd.DataFrame()\n",
        "for year in np.arange(2015,2021):\n",
        "  df_dnm[year] = 100000*deaths_year_month.loc[year]/pop[f\"{year}\"]"
      ],
      "execution_count": 0,
      "outputs": []
    },
    {
      "cell_type": "code",
      "metadata": {
        "id": "ToaLXYHddeCY",
        "colab_type": "code",
        "colab": {}
      },
      "source": [
        "df = df_dnm.loc[:,2015:2019].mean(axis=1)"
      ],
      "execution_count": 0,
      "outputs": []
    },
    {
      "cell_type": "code",
      "metadata": {
        "id": "LBYmvaoVd_O8",
        "colab_type": "code",
        "colab": {}
      },
      "source": [
        "df = df.reset_index().rename(columns={0:\"mortalidad media quinquenal\"})"
      ],
      "execution_count": 0,
      "outputs": []
    },
    {
      "cell_type": "code",
      "metadata": {
        "id": "xHmk515PeUaF",
        "colab_type": "code",
        "colab": {}
      },
      "source": [
        "df = df.set_index(\"mes\")"
      ],
      "execution_count": 0,
      "outputs": []
    },
    {
      "cell_type": "code",
      "metadata": {
        "id": "gblYaXnQQPh_",
        "colab_type": "code",
        "outputId": "f87c2578-acc4-4886-ba1b-97e256d8b691",
        "colab": {
          "base_uri": "https://localhost:8080/",
          "height": 235
        }
      },
      "source": [
        "df.head()"
      ],
      "execution_count": 0,
      "outputs": [
        {
          "output_type": "execute_result",
          "data": {
            "text/html": [
              "<div>\n",
              "<style scoped>\n",
              "    .dataframe tbody tr th:only-of-type {\n",
              "        vertical-align: middle;\n",
              "    }\n",
              "\n",
              "    .dataframe tbody tr th {\n",
              "        vertical-align: top;\n",
              "    }\n",
              "\n",
              "    .dataframe thead th {\n",
              "        text-align: right;\n",
              "    }\n",
              "</style>\n",
              "<table border=\"1\" class=\"dataframe\">\n",
              "  <thead>\n",
              "    <tr style=\"text-align: right;\">\n",
              "      <th></th>\n",
              "      <th>mortalidad media quinquenal</th>\n",
              "    </tr>\n",
              "    <tr>\n",
              "      <th>mes</th>\n",
              "      <th></th>\n",
              "    </tr>\n",
              "  </thead>\n",
              "  <tbody>\n",
              "    <tr>\n",
              "      <th>1</th>\n",
              "      <td>45.103587</td>\n",
              "    </tr>\n",
              "    <tr>\n",
              "      <th>2</th>\n",
              "      <td>40.993184</td>\n",
              "    </tr>\n",
              "    <tr>\n",
              "      <th>3</th>\n",
              "      <td>42.732621</td>\n",
              "    </tr>\n",
              "    <tr>\n",
              "      <th>4</th>\n",
              "      <td>44.655276</td>\n",
              "    </tr>\n",
              "    <tr>\n",
              "      <th>5</th>\n",
              "      <td>49.007020</td>\n",
              "    </tr>\n",
              "  </tbody>\n",
              "</table>\n",
              "</div>"
            ],
            "text/plain": [
              "     mortalidad media quinquenal\n",
              "mes                             \n",
              "1                      45.103587\n",
              "2                      40.993184\n",
              "3                      42.732621\n",
              "4                      44.655276\n",
              "5                      49.007020"
            ]
          },
          "metadata": {
            "tags": []
          },
          "execution_count": 45
        }
      ]
    },
    {
      "cell_type": "code",
      "metadata": {
        "id": "zoQx9PYteYhO",
        "colab_type": "code",
        "colab": {}
      },
      "source": [
        "df[\"mortalidad 2020\"] = df_dnm.loc[:5,2020]"
      ],
      "execution_count": 0,
      "outputs": []
    },
    {
      "cell_type": "code",
      "metadata": {
        "id": "_v5FqIIleyCE",
        "colab_type": "code",
        "outputId": "fb23e02d-7b3f-42c2-f025-0779b12409a7",
        "colab": {
          "base_uri": "https://localhost:8080/",
          "height": 136
        }
      },
      "source": [
        "df[\"mortalidad 2020\"].loc[1:5]"
      ],
      "execution_count": 0,
      "outputs": [
        {
          "output_type": "execute_result",
          "data": {
            "text/plain": [
              "mes\n",
              "1    47.116116\n",
              "2    39.448441\n",
              "3    45.183780\n",
              "4    45.964937\n",
              "5    53.077580\n",
              "Name: mortalidad 2020, dtype: float64"
            ]
          },
          "metadata": {
            "tags": []
          },
          "execution_count": 47
        }
      ]
    },
    {
      "cell_type": "code",
      "metadata": {
        "id": "acC49JhtCmY1",
        "colab_type": "code",
        "outputId": "aa841037-1156-4aad-d67b-f731580e0e7f",
        "colab": {
          "base_uri": "https://localhost:8080/",
          "height": 452
        }
      },
      "source": [
        "df"
      ],
      "execution_count": 0,
      "outputs": [
        {
          "output_type": "execute_result",
          "data": {
            "text/html": [
              "<div>\n",
              "<style scoped>\n",
              "    .dataframe tbody tr th:only-of-type {\n",
              "        vertical-align: middle;\n",
              "    }\n",
              "\n",
              "    .dataframe tbody tr th {\n",
              "        vertical-align: top;\n",
              "    }\n",
              "\n",
              "    .dataframe thead th {\n",
              "        text-align: right;\n",
              "    }\n",
              "</style>\n",
              "<table border=\"1\" class=\"dataframe\">\n",
              "  <thead>\n",
              "    <tr style=\"text-align: right;\">\n",
              "      <th></th>\n",
              "      <th>mortalidad media quinquenal</th>\n",
              "      <th>mortalidad 2020</th>\n",
              "    </tr>\n",
              "    <tr>\n",
              "      <th>mes</th>\n",
              "      <th></th>\n",
              "      <th></th>\n",
              "    </tr>\n",
              "  </thead>\n",
              "  <tbody>\n",
              "    <tr>\n",
              "      <th>1</th>\n",
              "      <td>45.103587</td>\n",
              "      <td>47.116116</td>\n",
              "    </tr>\n",
              "    <tr>\n",
              "      <th>2</th>\n",
              "      <td>40.993184</td>\n",
              "      <td>39.448441</td>\n",
              "    </tr>\n",
              "    <tr>\n",
              "      <th>3</th>\n",
              "      <td>42.732621</td>\n",
              "      <td>45.183780</td>\n",
              "    </tr>\n",
              "    <tr>\n",
              "      <th>4</th>\n",
              "      <td>44.655276</td>\n",
              "      <td>45.964937</td>\n",
              "    </tr>\n",
              "    <tr>\n",
              "      <th>5</th>\n",
              "      <td>49.007020</td>\n",
              "      <td>53.077580</td>\n",
              "    </tr>\n",
              "    <tr>\n",
              "      <th>6</th>\n",
              "      <td>53.466357</td>\n",
              "      <td>NaN</td>\n",
              "    </tr>\n",
              "    <tr>\n",
              "      <th>7</th>\n",
              "      <td>56.936915</td>\n",
              "      <td>NaN</td>\n",
              "    </tr>\n",
              "    <tr>\n",
              "      <th>8</th>\n",
              "      <td>54.196927</td>\n",
              "      <td>NaN</td>\n",
              "    </tr>\n",
              "    <tr>\n",
              "      <th>9</th>\n",
              "      <td>49.962101</td>\n",
              "      <td>NaN</td>\n",
              "    </tr>\n",
              "    <tr>\n",
              "      <th>10</th>\n",
              "      <td>47.784703</td>\n",
              "      <td>NaN</td>\n",
              "    </tr>\n",
              "    <tr>\n",
              "      <th>11</th>\n",
              "      <td>45.749166</td>\n",
              "      <td>NaN</td>\n",
              "    </tr>\n",
              "    <tr>\n",
              "      <th>12</th>\n",
              "      <td>45.207051</td>\n",
              "      <td>NaN</td>\n",
              "    </tr>\n",
              "  </tbody>\n",
              "</table>\n",
              "</div>"
            ],
            "text/plain": [
              "     mortalidad media quinquenal  mortalidad 2020\n",
              "mes                                              \n",
              "1                      45.103587        47.116116\n",
              "2                      40.993184        39.448441\n",
              "3                      42.732621        45.183780\n",
              "4                      44.655276        45.964937\n",
              "5                      49.007020        53.077580\n",
              "6                      53.466357              NaN\n",
              "7                      56.936915              NaN\n",
              "8                      54.196927              NaN\n",
              "9                      49.962101              NaN\n",
              "10                     47.784703              NaN\n",
              "11                     45.749166              NaN\n",
              "12                     45.207051              NaN"
            ]
          },
          "metadata": {
            "tags": []
          },
          "execution_count": 49
        }
      ]
    },
    {
      "cell_type": "code",
      "metadata": {
        "id": "V_S9_6pKe7MW",
        "colab_type": "code",
        "outputId": "1b4d826b-aff0-44eb-c0ef-0e8560c55054",
        "colab": {
          "base_uri": "https://localhost:8080/",
          "height": 441
        }
      },
      "source": [
        "fig, ax = plt.subplots(figsize=(10,6))\n",
        "df.plot(kind='bar', ax=ax, fontsize='x-large')\n",
        "for i, val in enumerate(df[\"mortalidad media quinquenal\"]):\n",
        "  ax.text(i-0.3, val, f\"{val:.0f}\", fontsize='x-large')\n",
        "for i, val in enumerate(df[\"mortalidad 2020\"].loc[1:5]):\n",
        "  ax.text(i, val, f\"{val:.0f}\", fontsize='x-large')\n",
        "ax.set_xticks(np.arange(0,12))\n",
        "ax.set_xticklabels([\"enero\", \"febrero\", \"marzo\", \"abril\", \"mayo\", \"junio\", \"julio\", \"agosto\", \"septiembre\", \"octubre\", \"noviembre\", \"diciembre\"], rotation=45)\n",
        "plt.title(\"Mortalidad media quinquenal 2015-2019 y \\nmortalidad 2020 por mes. Chile. 2015-2020\")\n",
        "plt.legend(loc='right')\n",
        "ax.set_xlabel(\"Mes\")\n",
        "ax.set_ylabel(\"Tasa por 100.000 habitantes\")\n",
        "fig.tight_layout()\n",
        "plt.annotate('Source: https://github.com/MinCiencia/Datos-COVID19\\nAutor: @alonsosilvaallende', (0,0), (-40,-60), fontsize='large', xycoords='axes fraction', textcoords='offset points', va='top')\n",
        "plt.savefig('2020-06-02-plot4.png', bbox_inches='tight', format='png', dvi=2000)\n",
        "# plt.show()"
      ],
      "execution_count": 0,
      "outputs": [
        {
          "output_type": "display_data",
          "data": {
            "image/png": "[encoded data removed]",
            "text/plain": [
              "<Figure size 720x432 with 1 Axes>"
            ]
          },
          "metadata": {
            "tags": [],
            "needs_background": "light"
          }
        }
      ]
    },
    {
      "cell_type": "code",
      "metadata": {
        "id": "vy_rVpWiAV36",
        "colab_type": "code",
        "colab": {}
      },
      "source": [
        "from google.colab import files\n",
        "files.download('2020-06-02-plot4.png')"
      ],
      "execution_count": 0,
      "outputs": []
    },
    {
      "cell_type": "code",
      "metadata": {
        "id": "8zCl0nba46db",
        "colab_type": "code",
        "colab": {}
      },
      "source": [
        "totales_covid19 = pd.read_csv(\n",
        "    \"https://raw.githubusercontent.com/MinCiencia/Datos-COVID19/master/output/producto5/TotalesNacionales_T.csv\",\n",
        "    index_col=\"Fecha\")"
      ],
      "execution_count": 0,
      "outputs": []
    },
    {
      "cell_type": "code",
      "metadata": {
        "id": "ZgJOSdby6Ekc",
        "colab_type": "code",
        "colab": {}
      },
      "source": [
        "deaths_covid19 = totales_covid19[\"Fallecidos\"][totales_covid19[\"Fallecidos\"]>0]"
      ],
      "execution_count": 0,
      "outputs": []
    },
    {
      "cell_type": "code",
      "metadata": {
        "id": "KS4oyt106eRt",
        "colab_type": "code",
        "outputId": "304d01a5-5d03-481a-f4b5-8568a3531622",
        "colab": {
          "base_uri": "https://localhost:8080/",
          "height": 102
        }
      },
      "source": [
        "deaths_covid19.head(3)"
      ],
      "execution_count": 0,
      "outputs": [
        {
          "output_type": "execute_result",
          "data": {
            "text/plain": [
              "Fecha\n",
              "2020-03-22    1.0\n",
              "2020-03-23    1.0\n",
              "2020-03-24    2.0\n",
              "Name: Fallecidos, dtype: float64"
            ]
          },
          "metadata": {
            "tags": []
          },
          "execution_count": 54
        }
      ]
    },
    {
      "cell_type": "code",
      "metadata": {
        "id": "P1FP6OWc6s2d",
        "colab_type": "code",
        "outputId": "aa15627b-08dd-4fd9-9b16-76e52c8ec021",
        "colab": {
          "base_uri": "https://localhost:8080/",
          "height": 34
        }
      },
      "source": [
        "deaths_covid19.loc[\"2020-03-31\"]"
      ],
      "execution_count": 0,
      "outputs": [
        {
          "output_type": "execute_result",
          "data": {
            "text/plain": [
              "12.0"
            ]
          },
          "metadata": {
            "tags": []
          },
          "execution_count": 55
        }
      ]
    },
    {
      "cell_type": "code",
      "metadata": {
        "id": "-NZWPBKc-ezR",
        "colab_type": "code",
        "outputId": "18c89cd5-6198-48c8-f7b3-fcf90fccafa9",
        "colab": {
          "base_uri": "https://localhost:8080/",
          "height": 34
        }
      },
      "source": [
        "deaths_covid19.loc[\"2020-04-30\"]"
      ],
      "execution_count": 0,
      "outputs": [
        {
          "output_type": "execute_result",
          "data": {
            "text/plain": [
              "227.0"
            ]
          },
          "metadata": {
            "tags": []
          },
          "execution_count": 57
        }
      ]
    },
    {
      "cell_type": "code",
      "metadata": {
        "id": "0TgvO0W6WMw9",
        "colab_type": "code",
        "colab": {}
      },
      "source": [
        ""
      ],
      "execution_count": 0,
      "outputs": []
    }
  ]
}